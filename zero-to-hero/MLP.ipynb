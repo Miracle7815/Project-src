{
 "cells": [
  {
   "cell_type": "code",
   "execution_count": 2,
   "metadata": {},
   "outputs": [
    {
     "name": "stderr",
     "output_type": "stream",
     "text": [
      "d:\\anaconda\\envs\\OPENAI\\lib\\site-packages\\tqdm\\auto.py:21: TqdmWarning: IProgress not found. Please update jupyter and ipywidgets. See https://ipywidgets.readthedocs.io/en/stable/user_install.html\n",
      "  from .autonotebook import tqdm as notebook_tqdm\n"
     ]
    }
   ],
   "source": [
    "import torch\n",
    "import torch.nn.functional as F\n",
    "import matplotlib.pyplot as plt\n",
    "%matplotlib inline\n"
   ]
  },
  {
   "cell_type": "code",
   "execution_count": 3,
   "metadata": {},
   "outputs": [
    {
     "data": {
      "text/plain": [
       "['emma', 'olivia', 'ava', 'isabella', 'sophia', 'charlotte', 'mia', 'amelia']"
      ]
     },
     "execution_count": 3,
     "metadata": {},
     "output_type": "execute_result"
    }
   ],
   "source": [
    "words = open(\"names.txt\" , 'r').read().splitlines()\n",
    "words[:8]"
   ]
  },
  {
   "cell_type": "code",
   "execution_count": 4,
   "metadata": {},
   "outputs": [
    {
     "data": {
      "text/plain": [
       "32033"
      ]
     },
     "execution_count": 4,
     "metadata": {},
     "output_type": "execute_result"
    }
   ],
   "source": [
    "len(words)"
   ]
  },
  {
   "cell_type": "code",
   "execution_count": 5,
   "metadata": {},
   "outputs": [
    {
     "name": "stdout",
     "output_type": "stream",
     "text": [
      "{1: 'a', 2: 'b', 3: 'c', 4: 'd', 5: 'e', 6: 'f', 7: 'g', 8: 'h', 9: 'i', 10: 'j', 11: 'k', 12: 'l', 13: 'm', 14: 'n', 15: 'o', 16: 'p', 17: 'q', 18: 'r', 19: 's', 20: 't', 21: 'u', 22: 'v', 23: 'w', 24: 'x', 25: 'y', 26: 'z', 0: '.'}\n"
     ]
    }
   ],
   "source": [
    "chars = sorted(list(set(''.join(words))))\n",
    "stoi = {s:i+1 for i , s in enumerate(chars)}\n",
    "stoi['.'] = 0\n",
    "itos = {i : s for s , i in stoi.items()}\n",
    "print(itos)"
   ]
  },
  {
   "cell_type": "code",
   "execution_count": 6,
   "metadata": {},
   "outputs": [
    {
     "name": "stdout",
     "output_type": "stream",
     "text": [
      "emma\n",
      "... ---> e\n",
      "..e ---> m\n",
      ".em ---> m\n",
      "emm ---> a\n",
      "mma ---> .\n",
      "olivia\n",
      "... ---> o\n",
      "..o ---> l\n",
      ".ol ---> i\n",
      "oli ---> v\n",
      "liv ---> i\n",
      "ivi ---> a\n",
      "via ---> .\n",
      "ava\n",
      "... ---> a\n",
      "..a ---> v\n",
      ".av ---> a\n",
      "ava ---> .\n",
      "isabella\n",
      "... ---> i\n",
      "..i ---> s\n",
      ".is ---> a\n",
      "isa ---> b\n",
      "sab ---> e\n",
      "abe ---> l\n",
      "bel ---> l\n",
      "ell ---> a\n",
      "lla ---> .\n",
      "sophia\n",
      "... ---> s\n",
      "..s ---> o\n",
      ".so ---> p\n",
      "sop ---> h\n",
      "oph ---> i\n",
      "phi ---> a\n",
      "hia ---> .\n"
     ]
    }
   ],
   "source": [
    "#dataset\n",
    "block_size = 3  #context length\n",
    "X , Y = [] , []\n",
    "\n",
    "for w in words[:5]:\n",
    "    print(w)\n",
    "\n",
    "    context = [0] * block_size\n",
    "    # print(context)\n",
    "    for ch in w + '.':\n",
    "        ix = stoi[ch]\n",
    "        X.append(context)\n",
    "        Y.append(ix)\n",
    "        print(''.join(itos[i] for i in context) , '--->' , itos[ix])\n",
    "        context = context[1:] + [ix]\n",
    "\n",
    "X = torch.tensor(X)\n",
    "Y = torch.tensor(Y)"
   ]
  },
  {
   "cell_type": "code",
   "execution_count": 7,
   "metadata": {},
   "outputs": [
    {
     "data": {
      "text/plain": [
       "(torch.Size([32, 3]), torch.int64, torch.Size([32]), torch.int64)"
      ]
     },
     "execution_count": 7,
     "metadata": {},
     "output_type": "execute_result"
    }
   ],
   "source": [
    "X.shape , X.dtype , Y.shape , Y.dtype"
   ]
  },
  {
   "cell_type": "code",
   "execution_count": 8,
   "metadata": {},
   "outputs": [
    {
     "data": {
      "text/plain": [
       "tensor([[-6.0961e-04, -1.1714e+00],\n",
       "        [-5.2460e-01, -8.3531e-01],\n",
       "        [-9.2176e-01,  1.0473e+00],\n",
       "        [-8.5712e-01, -1.6196e+00],\n",
       "        [-9.1910e-01,  1.8196e+00],\n",
       "        [-4.4415e-01, -5.0334e-01],\n",
       "        [-1.7544e+00,  6.5315e-01],\n",
       "        [ 2.0224e-01, -9.7768e-01],\n",
       "        [ 8.7359e-02, -1.2943e+00],\n",
       "        [ 3.3231e-01, -1.7259e-01],\n",
       "        [ 1.1560e-01,  7.2818e-01],\n",
       "        [-1.3281e+00, -6.8505e-01],\n",
       "        [-6.7501e-01,  1.2782e+00],\n",
       "        [-5.4191e-01,  9.6349e-02],\n",
       "        [ 7.4797e-01,  8.1311e-01],\n",
       "        [ 2.7716e-01,  4.6552e-01],\n",
       "        [ 1.0445e+00,  1.8726e+00],\n",
       "        [ 5.8755e-01,  6.4407e-01],\n",
       "        [-3.4831e-02,  1.5529e+00],\n",
       "        [-4.3322e-01,  4.2811e-01],\n",
       "        [-1.5167e+00, -8.9239e-01],\n",
       "        [ 2.2171e+00,  3.1371e-01],\n",
       "        [ 5.5331e-01,  2.5524e-01],\n",
       "        [ 4.6769e-01,  1.6033e+00],\n",
       "        [ 1.0452e-01, -6.7837e-01],\n",
       "        [-3.0877e-01, -7.7499e-01],\n",
       "        [-2.9567e-01,  2.1000e+00]])"
      ]
     },
     "execution_count": 8,
     "metadata": {},
     "output_type": "execute_result"
    }
   ],
   "source": [
    "C = torch.randn((27 , 2))          #Lookup table\n",
    "C"
   ]
  },
  {
   "cell_type": "code",
   "execution_count": 9,
   "metadata": {},
   "outputs": [
    {
     "data": {
      "text/plain": [
       "tensor([-0.4441, -0.5033])"
      ]
     },
     "execution_count": 9,
     "metadata": {},
     "output_type": "execute_result"
    }
   ],
   "source": [
    "F.one_hot(torch.tensor(5) , num_classes=27).float() @ C  #将字母映射到2维空间   =C[5]"
   ]
  },
  {
   "cell_type": "code",
   "execution_count": 10,
   "metadata": {},
   "outputs": [
    {
     "data": {
      "text/plain": [
       "torch.Size([32, 3, 2])"
      ]
     },
     "execution_count": 10,
     "metadata": {},
     "output_type": "execute_result"
    }
   ],
   "source": [
    "emb = C[X]\n",
    "emb.shape"
   ]
  },
  {
   "cell_type": "code",
   "execution_count": 11,
   "metadata": {},
   "outputs": [],
   "source": [
    "W1 = torch.randn((6 , 100))\n",
    "b1 = torch.randn(100)"
   ]
  },
  {
   "cell_type": "code",
   "execution_count": 12,
   "metadata": {},
   "outputs": [
    {
     "data": {
      "text/plain": [
       "tensor([[-0.8308, -0.9901, -0.9838,  ...,  0.9929,  0.7526,  0.9844],\n",
       "        [-0.9622, -0.9752, -0.9721,  ...,  0.9961,  0.6140,  0.8738],\n",
       "        [-0.9717, -0.4645, -0.7286,  ...,  0.9841,  0.5144, -0.0694],\n",
       "        ...,\n",
       "        [ 0.9800, -0.9936,  0.0482,  ...,  0.5256,  0.9989,  0.4712],\n",
       "        [ 0.1190, -0.9789,  0.3241,  ...,  0.9999,  0.9991,  0.8790],\n",
       "        [-0.7446, -0.9883, -0.9333,  ...,  0.9637,  0.7645,  0.8185]])"
      ]
     },
     "execution_count": 12,
     "metadata": {},
     "output_type": "execute_result"
    }
   ],
   "source": [
    "# 结果相同\n",
    "torch.cat(torch.unbind(emb , 1) , 1).shape\n",
    "\n",
    "h = torch.tanh(emb.view(-1 , 6) @ W1 + b1)\n",
    "h"
   ]
  },
  {
   "cell_type": "code",
   "execution_count": 13,
   "metadata": {},
   "outputs": [],
   "source": [
    "# Temp = torch.tensor(([[[1 , 2 , 3],[4 , 5 , 6]],[[7 , 8 , 9],[10 , 11 , 12]]]))\n",
    "# print(Temp)\n",
    "# print(torch.unbind(Temp , 1))\n",
    "# print(torch.cat(torch.unbind(Temp , 1) , 1))"
   ]
  },
  {
   "cell_type": "code",
   "execution_count": 14,
   "metadata": {},
   "outputs": [],
   "source": [
    "W2 = torch.randn((100 , 27))\n",
    "b2 = torch.randn(27)\n",
    "\n",
    "logits = h @ W2 + b2\n",
    "counts = logits.exp()\n",
    "prob = counts / counts.sum(1 , keepdim=True)\n"
   ]
  },
  {
   "cell_type": "code",
   "execution_count": 15,
   "metadata": {},
   "outputs": [],
   "source": [
    "loss = -prob[torch.arange(X.shape[0]) , Y].log().mean()\n"
   ]
  },
  {
   "cell_type": "code",
   "execution_count": 18,
   "metadata": {},
   "outputs": [
    {
     "name": "stdout",
     "output_type": "stream",
     "text": [
      "torch.Size([182625, 3]) torch.Size([182625])\n",
      "torch.Size([22655, 3]) torch.Size([22655])\n",
      "torch.Size([22866, 3]) torch.Size([22866])\n"
     ]
    }
   ],
   "source": [
    "# Summary\n",
    "import random\n",
    "words = open('names.txt' , 'r').read().splitlines()\n",
    "\n",
    "chars = sorted(list(set(''.join(words))))\n",
    "stoi = {s : i + 1 for i , s in enumerate(chars)}\n",
    "stoi['.'] = 0\n",
    "itos = {i : s for s , i in stoi.items()}\n",
    "\n",
    "def build_dataset(words):\n",
    "    block_size = 3\n",
    "    X , Y = [] , []\n",
    "\n",
    "    for w in words:\n",
    "        context = [0] * block_size\n",
    "        for ch in w + '.':\n",
    "            ix = stoi[ch]\n",
    "            X.append(context)\n",
    "            Y.append(ix)\n",
    "            # print(''.join(itos[i] for i in context) , '--->' , itos[ix])\n",
    "            context = context[1 :] + [ix]\n",
    "\n",
    "    X = torch.tensor(X)\n",
    "    Y = torch.tensor(Y)\n",
    "    print(X.shape , Y.shape) \n",
    "    return X , Y\n",
    "\n",
    "random.seed(42)\n",
    "random.shuffle(words)\n",
    "n1 = int(0.8 * len(words))\n",
    "n2 = int(0.9 * len(words))\n",
    "\n",
    "Xtr , Ytr = build_dataset(words[:n1])     #train data\n",
    "Xdev , Ydev = build_dataset(words[n1:n2]) #dev data\n",
    "Xte , Yte = build_dataset(words[n2:])     #test data\n",
    "\n"
   ]
  },
  {
   "cell_type": "code",
   "execution_count": 24,
   "metadata": {},
   "outputs": [],
   "source": [
    "g = torch.Generator().manual_seed(2147483647)\n",
    "C = torch.randn((27 , 10) , generator = g)\n",
    "W1 = torch.randn((30 , 300) , generator = g)\n",
    "b1 = torch.randn(300 , generator = g)\n",
    "W2 = torch.randn((300 , 27) , generator = g)\n",
    "b2 = torch.randn(27 , generator=g)\n",
    "\n",
    "parameters = [C , W1 , b1 , W2 , b2]\n",
    "total_parameters = sum(p.nelement() for p in parameters)\n",
    "\n",
    "for p in parameters:\n",
    "    p.requires_grad = True"
   ]
  },
  {
   "cell_type": "code",
   "execution_count": 31,
   "metadata": {},
   "outputs": [
    {
     "name": "stdout",
     "output_type": "stream",
     "text": [
      "loss : 1.9347702264785767\n"
     ]
    }
   ],
   "source": [
    "##如何调整学习率lr，记录不同学习率的loss，找到合理lr的上下界并在上下界中生成不同的学习率\n",
    "##根据不同学习率在loss上的表现选择最佳学习率区间\n",
    "# lre = torch.linspace(-3 , 0 , 1000)\n",
    "# lrs = 10 ** lre           #lr  =  0.001 --- 1\n",
    "\n",
    "lri = []\n",
    "lossi = []\n",
    "stepi = []\n",
    "\n",
    "for i in range(30000):\n",
    "    #mini batch\n",
    "    ix = torch.randint(0 , Xtr.shape[0] , (32 , ))\n",
    "\n",
    "    emb = C[Xtr[ix]]\n",
    "    h = torch.tanh(emb.view(-1 , 6) @ W1 + b1)\n",
    "    logits = h @ W2 + b2\n",
    "    # counts = logits.exp()\n",
    "    # prob = counts / counts.sum(1 , keepdims=True)\n",
    "    # loss = -prob[torch.arange(32) , Y].log().mean()\n",
    "    loss = F.cross_entropy(logits , Ytr[ix])\n",
    "    for p in parameters:\n",
    "        p.grad = None\n",
    "    loss.backward()\n",
    "\n",
    "    # lr = lrs[i]\n",
    "    #可以随着训练轮数的增加进行学习率衰减\n",
    "    lr = 0.01\n",
    "    for p in parameters:\n",
    "        p.data += -lr * p.grad\n",
    "\n",
    "    #track stats\n",
    "    # lri.append(lre[i])\n",
    "    lossi.append(loss.item())\n",
    "    stepi.append(i)\n",
    "        \n",
    "print(f'loss : {loss.item()}')\n",
    "\n"
   ]
  },
  {
   "cell_type": "code",
   "execution_count": 33,
   "metadata": {},
   "outputs": [
    {
     "data": {
      "text/plain": [
       "[<matplotlib.lines.Line2D at 0x2baa0051760>]"
      ]
     },
     "execution_count": 33,
     "metadata": {},
     "output_type": "execute_result"
    },
    {
     "data": {
      "image/png": "[encoded data removed]",
      "text/plain": [
       "<Figure size 640x480 with 1 Axes>"
      ]
     },
     "metadata": {},
     "output_type": "display_data"
    }
   ],
   "source": [
    "plt.plot(stepi , lossi)"
   ]
  },
  {
   "cell_type": "code",
   "execution_count": 75,
   "metadata": {},
   "outputs": [
    {
     "data": {
      "text/plain": [
       "[<matplotlib.lines.Line2D at 0x28887aca820>]"
      ]
     },
     "execution_count": 75,
     "metadata": {},
     "output_type": "execute_result"
    },
    {
     "data": {
      "image/png": "[encoded data removed]",
      "text/plain": [
       "<Figure size 640x480 with 1 Axes>"
      ]
     },
     "metadata": {},
     "output_type": "display_data"
    }
   ],
   "source": [
    "plt.plot(lri , lossi)\n",
    "#如图所示lre = [-1 , -0.5]效果较好\n"
   ]
  },
  {
   "cell_type": "code",
   "execution_count": 32,
   "metadata": {},
   "outputs": [
    {
     "name": "stdout",
     "output_type": "stream",
     "text": [
      "total loss : 2.273022413253784\n"
     ]
    }
   ],
   "source": [
    "emb = C[Xdev]\n",
    "h = torch.tanh(emb.view(-1 , 30) @ W1 + b1)\n",
    "logits = h @ W2 + b2\n",
    "loss = F.cross_entropy(logits , Ydev)\n",
    "print(f'total loss : {loss.item()}')"
   ]
  },
  {
   "cell_type": "code",
   "execution_count": 34,
   "metadata": {},
   "outputs": [
    {
     "name": "stdout",
     "output_type": "stream",
     "text": [
      "carmah.\n",
      "amelle.\n",
      "khi.\n",
      "mrix.\n",
      "thty.\n",
      "salan.\n",
      "kejrahnen.\n",
      "delly.\n",
      "cilaeni.\n",
      "ner.\n",
      "kia.\n",
      "ceriia.\n",
      "kaleig.\n",
      "hham.\n",
      "joi.\n",
      "deshan.\n",
      "sroilea.\n",
      "jadia.\n",
      "wazero.\n",
      "dearyxi.\n"
     ]
    }
   ],
   "source": [
    "g = torch.Generator().manual_seed(2147483647 + 10)\n",
    "\n",
    "for _ in range(20):\n",
    "    out = []\n",
    "    context = [0] * block_size\n",
    "    while True:\n",
    "        emb = C[torch.tensor(context)]\n",
    "        h = torch.tanh(emb.view(1 , -1) @ W1 + b1)\n",
    "        logits = h @ W2 + b2\n",
    "        probs = F.softmax(logits , dim=1)\n",
    "        ix = torch.multinomial(probs , num_samples=1 , generator=g).item()\n",
    "        context = context[1:] + [ix]\n",
    "        out.append(ix)\n",
    "        if ix == 0:\n",
    "            break\n",
    "\n",
    "    print(''.join(itos[i] for i in out))"
   ]
  }
 ],
 "metadata": {
  "kernelspec": {
   "display_name": "OPENAI",
   "language": "python",
   "name": "python3"
  },
  "language_info": {
   "codemirror_mode": {
    "name": "ipython",
    "version": 3
   },
   "file_extension": ".py",
   "mimetype": "text/x-python",
   "name": "python",
   "nbconvert_exporter": "python",
   "pygments_lexer": "ipython3",
   "version": "3.8.0"
  }
 },
 "nbformat": 4,
 "nbformat_minor": 2
}
