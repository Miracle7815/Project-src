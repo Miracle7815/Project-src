{
 "cells": [
  {
   "cell_type": "code",
   "execution_count": 138,
   "metadata": {},
   "outputs": [],
   "source": [
    "import torch \n",
    "import torch.nn as nn\n",
    "import torch.nn.functional as F\n",
    "import matplotlib.pyplot as plt\n",
    "import random\n",
    "%matplotlib inline\n"
   ]
  },
  {
   "cell_type": "code",
   "execution_count": 139,
   "metadata": {},
   "outputs": [
    {
     "name": "stdout",
     "output_type": "stream",
     "text": [
      "32033\n",
      "15\n",
      "['emma', 'olivia', 'ava', 'isabella', 'sophia', 'charlotte', 'mia', 'amelia']\n"
     ]
    }
   ],
   "source": [
    "words = open(\"names.txt\" , 'r').read().splitlines()\n",
    "print(len(words))\n",
    "print(max(len(w) for w in words))\n",
    "print(words[:8])"
   ]
  },
  {
   "cell_type": "code",
   "execution_count": 140,
   "metadata": {},
   "outputs": [
    {
     "name": "stdout",
     "output_type": "stream",
     "text": [
      "{1: 'a', 2: 'b', 3: 'c', 4: 'd', 5: 'e', 6: 'f', 7: 'g', 8: 'h', 9: 'i', 10: 'j', 11: 'k', 12: 'l', 13: 'm', 14: 'n', 15: 'o', 16: 'p', 17: 'q', 18: 'r', 19: 's', 20: 't', 21: 'u', 22: 'v', 23: 'w', 24: 'x', 25: 'y', 26: 'z', 0: '.'}\n"
     ]
    }
   ],
   "source": [
    "chars = sorted(list(set(''.join(words))))\n",
    "stoi = {s:i+1 for i , s in enumerate(chars)}\n",
    "stoi['.'] = 0\n",
    "itos = {i : s for s , i in stoi.items()}\n",
    "vocab_size = len(itos)\n",
    "print(itos)"
   ]
  },
  {
   "cell_type": "code",
   "execution_count": 141,
   "metadata": {},
   "outputs": [
    {
     "name": "stdout",
     "output_type": "stream",
     "text": [
      "torch.Size([182625, 8]) torch.Size([182625])\n",
      "torch.Size([22655, 8]) torch.Size([22655])\n",
      "torch.Size([22866, 8]) torch.Size([22866])\n"
     ]
    }
   ],
   "source": [
    "import random\n",
    "\n",
    "block_size = 8\n",
    "def build_dataset(words):\n",
    "    X , Y = [] , []\n",
    "\n",
    "    for w in words:\n",
    "        context = [0] * block_size\n",
    "        for ch in w + '.':\n",
    "            ix = stoi[ch]\n",
    "            X.append(context)\n",
    "            Y.append(ix)\n",
    "            # print(''.join(itos[i] for i in context) , '--->' , itos[ix])\n",
    "            context = context[1 :] + [ix]\n",
    " \n",
    "    X = torch.tensor(X)\n",
    "    Y = torch.tensor(Y)\n",
    "    print(X.shape , Y.shape) \n",
    "    return X , Y\n",
    "\n",
    "random.seed(42)\n",
    "random.shuffle(words)\n",
    "n1 = int(0.8 * len(words))\n",
    "n2 = int(0.9 * len(words))\n",
    "\n",
    "Xtr , Ytr = build_dataset(words[:n1])     #train data\n",
    "Xdev , Ydev = build_dataset(words[n1:n2]) #dev data\n",
    "Xte , Yte = build_dataset(words[n2:])     #test data"
   ]
  },
  {
   "cell_type": "code",
   "execution_count": 142,
   "metadata": {},
   "outputs": [
    {
     "name": "stdout",
     "output_type": "stream",
     "text": [
      "........ ---> y\n",
      ".......y ---> u\n",
      "......yu ---> h\n",
      ".....yuh ---> e\n",
      "....yuhe ---> n\n",
      "...yuhen ---> g\n",
      "..yuheng ---> .\n",
      "........ ---> d\n",
      ".......d ---> i\n",
      "......di ---> o\n",
      ".....dio ---> n\n",
      "....dion ---> d\n",
      "...diond ---> r\n",
      "..diondr ---> e\n",
      ".diondre ---> .\n",
      "........ ---> x\n",
      ".......x ---> a\n",
      "......xa ---> v\n",
      ".....xav ---> i\n",
      "....xavi ---> e\n"
     ]
    }
   ],
   "source": [
    "for x,y in zip(Xtr[:20] , Ytr[:20]):\n",
    "    print(''.join(itos[ix.item()] for ix in x) , '--->' , itos[y.item()])"
   ]
  },
  {
   "cell_type": "code",
   "execution_count": 143,
   "metadata": {},
   "outputs": [],
   "source": [
    "class Linear:\n",
    "    def __init__(self , fan_in , fan_out , bias=True):\n",
    "        self.weight = torch.randn((fan_in , fan_out)) / fan_in ** 0.5\n",
    "        self.bias = torch.zeros(fan_out) if bias else None\n",
    "    \n",
    "    def __call__(self, x):\n",
    "        self.out = x @ self.weight \n",
    "        if self.bias is not None:\n",
    "            self.out += self.bias\n",
    "        return self.out\n",
    "    \n",
    "    def parameters(self):\n",
    "        return [self.weight] + ([] if self.bias is None else [self.bias])\n",
    "\n",
    "#不同于pytorch的BatchNorm \n",
    "class BatchNorm1d:\n",
    "    def __init__(self , dim , eps=1e-5 , momentum = 0.1):\n",
    "        self.eps = eps\n",
    "        self.momentum = momentum\n",
    "        self.training = True\n",
    "\n",
    "        self.gamma = torch.ones(dim)\n",
    "        self.beta = torch.zeros(dim)\n",
    "\n",
    "        self.running_mean = torch.zeros(dim)\n",
    "        self.running_var = torch.ones(dim)\n",
    "\n",
    "    def __call__(self , x):\n",
    "        if self.training:\n",
    "            if x.ndim == 2:\n",
    "                dim = 0\n",
    "            elif x.ndim == 3:\n",
    "                dim = (0 , 1)\n",
    "            xmean = x.mean(dim , keepdim = True)\n",
    "            xvar = x.var(dim , keepdim=True)\n",
    "        else:\n",
    "            xmean = self.running_mean\n",
    "            xvar = self.running_var\n",
    "        xhat = (x - xmean) / torch.sqrt(xvar + self.eps)\n",
    "        self.out = self.gamma * xhat + self.beta\n",
    "\n",
    "        if self.training:\n",
    "            with torch.no_grad():\n",
    "                self.running_mean = (1 - self.momentum) * self.running_mean + self.momentum * xmean\n",
    "                self.running_var = (1 - self.momentum) * self.running_var + self.momentum * xvar\n",
    "        return self.out \n",
    "\n",
    "    def parameters(self):\n",
    "        return [self.gamma , self.beta]\n",
    "    \n",
    "    \n",
    "class Tanh:\n",
    "    def __call__(self, x):\n",
    "        self.out = torch.tanh(x)\n",
    "        return self.out\n",
    "    \n",
    "    def parameters(self):\n",
    "        return []\n",
    "    \n",
    "    \n",
    "class Embedding:\n",
    "    def __init__(self , num_embeddings , embedding_dim):\n",
    "        self.weight = torch.randn((num_embeddings , embedding_dim))\n",
    "\n",
    "    def __call__(self , x):\n",
    "        self.out = self.weight[x]\n",
    "        return self.out\n",
    "    \n",
    "    def parameters(self):\n",
    "        return [self.weight]\n",
    "\n",
    "\n",
    "class FlattenConsecutive:\n",
    "    def __init__(self , n):\n",
    "        self.n = n\n",
    "\n",
    "    def __call__(self , x):\n",
    "        B ,T , C = x.shape\n",
    "        x = x.view(B , T // self.n , self.n * C)\n",
    "        if x.shape[1] == 1:\n",
    "            x = x.squeeze(1)\n",
    "        self.out = x\n",
    "        return self.out\n",
    "    \n",
    "    def parameters(self):\n",
    "        return []\n",
    "    \n",
    "\n",
    "class Sequential:\n",
    "    def __init__(self , layers):\n",
    "        self.layers = layers\n",
    "\n",
    "    def __call__(self, x):\n",
    "        for layer in self.layers:\n",
    "            x = layer(x)\n",
    "\n",
    "        self.out = x\n",
    "        return self.out\n",
    "\n",
    "    def parameters(self):\n",
    "        return [p for layer in self.layers for p in layer.parameters()]"
   ]
  },
  {
   "cell_type": "code",
   "execution_count": 144,
   "metadata": {},
   "outputs": [
    {
     "data": {
      "text/plain": [
       "<torch._C.Generator at 0x15e60512f10>"
      ]
     },
     "execution_count": 144,
     "metadata": {},
     "output_type": "execute_result"
    }
   ],
   "source": [
    "torch.manual_seed(42)"
   ]
  },
  {
   "cell_type": "code",
   "execution_count": 149,
   "metadata": {},
   "outputs": [
    {
     "name": "stdout",
     "output_type": "stream",
     "text": [
      "22397\n"
     ]
    }
   ],
   "source": [
    "n_embd = 10\n",
    "n_hidden = 68\n",
    "\n",
    "\n",
    "# C = torch.randn((vocab_size , n_embd))\n",
    "\n",
    "model = Sequential([\n",
    "    Embedding(vocab_size , n_embd),            #(batch_size * block_size * n_embd)\n",
    "    FlattenConsecutive(2),Linear(n_embd * 2 , n_hidden , bias=False),\n",
    "    BatchNorm1d(n_hidden),Tanh(),\n",
    "    FlattenConsecutive(2),Linear(n_hidden * 2 , n_hidden , bias=False),\n",
    "    BatchNorm1d(n_hidden),Tanh(),\n",
    "    FlattenConsecutive(2),Linear(n_hidden * 2 , n_hidden , bias=False),\n",
    "    BatchNorm1d(n_hidden),Tanh(),\n",
    "    Linear(n_hidden , vocab_size),\n",
    "])\n",
    "\n",
    "with torch.no_grad():\n",
    "    model.layers[-1].weight *= 0.1\n",
    "\n",
    "# parameters = [p for layer in layers for p in layer.parameters()]\n",
    "parameters = model.parameters()\n",
    "\n",
    "print(sum(p.nelement() for p in parameters))\n",
    "# print(type(model.parameters()))\n",
    "\n",
    "for p in parameters:\n",
    "    p.requires_grad = True"
   ]
  },
  {
   "cell_type": "code",
   "execution_count": 150,
   "metadata": {},
   "outputs": [
    {
     "name": "stdout",
     "output_type": "stream",
     "text": [
      "torch.Size([4, 8])\n"
     ]
    },
    {
     "data": {
      "text/plain": [
       "tensor([[ 0,  0,  0,  0,  0,  0,  0,  6],\n",
       "        [ 0,  0,  0, 11,  1, 25, 12,  5],\n",
       "        [ 0, 11,  5,  9, 13,  1, 18,  9],\n",
       "        [ 0,  0,  0,  0,  0,  1, 14, 10]])"
      ]
     },
     "execution_count": 150,
     "metadata": {},
     "output_type": "execute_result"
    }
   ],
   "source": [
    "ix = torch.randint(0 , Xtr.shape[0] , (4 , ))\n",
    "Xb , Yb = Xtr[ix] , Ytr[ix] \n",
    "logits = model(Xb)\n",
    "print(Xb.shape)\n",
    "Xb"
   ]
  },
  {
   "cell_type": "code",
   "execution_count": 151,
   "metadata": {},
   "outputs": [
    {
     "name": "stdout",
     "output_type": "stream",
     "text": [
      "Embedding :  (4, 8, 10)\n",
      "FlattenConsecutive :  (4, 4, 20)\n",
      "Linear :  (4, 4, 68)\n",
      "BatchNorm1d :  (4, 4, 68)\n",
      "Tanh :  (4, 4, 68)\n",
      "FlattenConsecutive :  (4, 2, 136)\n",
      "Linear :  (4, 2, 68)\n",
      "BatchNorm1d :  (4, 2, 68)\n",
      "Tanh :  (4, 2, 68)\n",
      "FlattenConsecutive :  (4, 136)\n",
      "Linear :  (4, 68)\n",
      "BatchNorm1d :  (4, 68)\n",
      "Tanh :  (4, 68)\n",
      "Linear :  (4, 27)\n"
     ]
    }
   ],
   "source": [
    "for layer in model.layers:\n",
    "    print(layer.__class__.__name__ , \": \" , tuple(layer.out.shape))"
   ]
  },
  {
   "cell_type": "code",
   "execution_count": 118,
   "metadata": {},
   "outputs": [
    {
     "name": "stdout",
     "output_type": "stream",
     "text": [
      "torch.Size([4, 8, 10])\n",
      "2\n",
      "torch.Size([4, 4, 20])\n",
      "torch.Size([4, 4, 20])\n",
      "tensor(True)\n"
     ]
    }
   ],
   "source": [
    "e = torch.randn((4 , 8 , 10))      #变为4 * 4 * 20\n",
    "print(e.shape) \n",
    "print(len([e[: , ::2 , :] , e[: , 1::2 , :]]))  \n",
    "#分别取奇数部分和偶数部分进行拼接\n",
    "explicit = torch.cat([e[: , ::2 , :] , e[: , 1::2 , :]] , dim=2)\n",
    "print(explicit.shape)\n",
    "print(e.view(4 , 4 , 20).shape)\n",
    "print((e.view(4 , 4 , 20) == explicit).all())"
   ]
  },
  {
   "cell_type": "code",
   "execution_count": 101,
   "metadata": {},
   "outputs": [
    {
     "name": "stdout",
     "output_type": "stream",
     "text": [
      "      0/ 200000: 3.2847\n"
     ]
    }
   ],
   "source": [
    "max_steps = 200000\n",
    "batch_size = 32\n",
    "lossi = []\n",
    "\n",
    "for i in range(max_steps):\n",
    "    ix = torch.randint(0 , Xtr.shape[0] , (batch_size , ))\n",
    "    Xb , Yb = Xtr[ix] , Ytr[ix]\n",
    "\n",
    "    # emb = C[Xb]\n",
    "    # x = emb.view(emb.shape[0] , -1)\n",
    "    \n",
    "    # x = Xb\n",
    "    #forward\n",
    "    # for layer in layers:\n",
    "    #     x = layer(x)\n",
    "    logits = model(Xb)\n",
    "    loss = F.cross_entropy(logits , Yb)\n",
    "\n",
    "    #backward\n",
    "    # for layer in layers:\n",
    "    #     layer.out.retain_grad()\n",
    "    \n",
    "    for p in parameters:\n",
    "        p.grad = None\n",
    "\n",
    "    loss.backward()\n",
    "\n",
    "    #update\n",
    "    lr = 0.1 if i < 150000 else 0.01\n",
    "    for p in parameters:\n",
    "        p.data += -lr * p.grad\n",
    "\n",
    "    #track stats\n",
    "    if (i + 1) % 10000 == 0:\n",
    "        print(f'{i + 1:7d}/{max_steps:7d}: {loss.item():.4f}')\n",
    "    elif i == 0:\n",
    "        print(f'{i:7d}/{max_steps:7d}: {loss.item():.4f}')\n",
    "    lossi.append(loss.log10().item())\n",
    "\n",
    "    break"
   ]
  },
  {
   "cell_type": "code",
   "execution_count": 74,
   "metadata": {},
   "outputs": [
    {
     "data": {
      "text/plain": [
       "[<matplotlib.lines.Line2D at 0x15e00864a60>]"
      ]
     },
     "execution_count": 74,
     "metadata": {},
     "output_type": "execute_result"
    },
    {
     "data": {
      "image/png": "[encoded data removed]",
      "text/plain": [
       "<Figure size 640x480 with 1 Axes>"
      ]
     },
     "metadata": {},
     "output_type": "display_data"
    }
   ],
   "source": [
    "plt.plot(torch.tensor(lossi).view(-1 , 1000).mean(1))\n",
    "# plt.plot(lossi)"
   ]
  },
  {
   "cell_type": "code",
   "execution_count": 75,
   "metadata": {},
   "outputs": [
    {
     "name": "stdout",
     "output_type": "stream",
     "text": [
      "train 2.0583252906799316\n",
      "val 2.1065292358398438\n"
     ]
    }
   ],
   "source": [
    "for layer in model.layers:\n",
    "    layer.training = False\n",
    "\n",
    "@torch.no_grad()\n",
    "def split_loss(split):\n",
    "    x , y = {\n",
    "        'train' : (Xtr , Ytr) , \n",
    "        'val' : (Xdev , Ydev) ,\n",
    "        'test' : (Xte , Yte),\n",
    "    }[split]\n",
    "    # emb = C[x]        #(N , block_size , n_embd)\n",
    "    # x = emb.view(emb.shape[0] , -1)\n",
    "    # for layer in layers:\n",
    "    #     x = layer(x)\n",
    "    logits = model(x)\n",
    "    loss = F.cross_entropy(logits , y)\n",
    "    print(split , loss.item())\n",
    "\n",
    "split_loss('train')\n",
    "split_loss('val')"
   ]
  },
  {
   "cell_type": "code",
   "execution_count": 86,
   "metadata": {},
   "outputs": [
    {
     "name": "stdout",
     "output_type": "stream",
     "text": [
      "brece.\n",
      "delikajabrir.\n",
      "nafinley.\n",
      "mahyanison.\n",
      "montiarah.\n",
      "janusomilli.\n",
      "aveena.\n",
      "savah.\n",
      "julo.\n",
      "lalita.\n",
      "alaodalya.\n",
      "jhavareen.\n",
      "kavri.\n",
      "ros.\n",
      "anyah.\n",
      "jullion.\n",
      "jakyas.\n",
      "matalindrayna.\n",
      "royah.\n",
      "brieller.\n"
     ]
    }
   ],
   "source": [
    "#sample from model\n",
    "\n",
    "for _ in range(20):\n",
    "    out = []\n",
    "    context = [0] * block_size\n",
    "    while True:\n",
    "        # emb = C[torch.tensor([context])]      #(1 , block_size , n_embd)\n",
    "        # # print(emb.shape)\n",
    "        # x = emb.view(emb.shape[0] , -1)\n",
    "        # for layer in layers:\n",
    "        #     x = layer(x)\n",
    "        # logits = x\n",
    "        '''\n",
    "        torch.tensor(context) 和 torch.tensor([context])的结果不同\n",
    "        前者直接根据context的维度生成张量，后者在原有维度前增加一个大小为1的维度(n+1维张量)\n",
    "        '''\n",
    "        logits = model(torch.tensor([context]))\n",
    "        probs = F.softmax(logits , dim=1)\n",
    "        ix = torch.multinomial(probs , num_samples=1).item()\n",
    "        context = context[1:] + [ix]\n",
    "        out.append(ix)\n",
    "        if ix == 0:\n",
    "            break\n",
    "\n",
    "    print(''.join(itos[i] for i in out))"
   ]
  }
 ],
 "metadata": {
  "kernelspec": {
   "display_name": "OPENAI",
   "language": "python",
   "name": "python3"
  },
  "language_info": {
   "codemirror_mode": {
    "name": "ipython",
    "version": 3
   },
   "file_extension": ".py",
   "mimetype": "text/x-python",
   "name": "python",
   "nbconvert_exporter": "python",
   "pygments_lexer": "ipython3",
   "version": "3.8.0"
  }
 },
 "nbformat": 4,
 "nbformat_minor": 2
}
