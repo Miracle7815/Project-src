{
 "cells": [
  {
   "cell_type": "code",
   "execution_count": 1,
   "metadata": {},
   "outputs": [
    {
     "name": "stderr",
     "output_type": "stream",
     "text": [
      "d:\\anaconda\\envs\\OPENAI\\lib\\site-packages\\tqdm\\auto.py:21: TqdmWarning: IProgress not found. Please update jupyter and ipywidgets. See https://ipywidgets.readthedocs.io/en/stable/user_install.html\n",
      "  from .autonotebook import tqdm as notebook_tqdm\n"
     ]
    }
   ],
   "source": [
    "import torch\n",
    "import torch.nn.functional as F\n",
    "import matplotlib.pyplot as plt\n",
    "%matplotlib inline"
   ]
  },
  {
   "cell_type": "code",
   "execution_count": 2,
   "metadata": {},
   "outputs": [
    {
     "data": {
      "text/plain": [
       "['emma', 'olivia', 'ava', 'isabella', 'sophia', 'charlotte', 'mia', 'amelia']"
      ]
     },
     "execution_count": 2,
     "metadata": {},
     "output_type": "execute_result"
    }
   ],
   "source": [
    "words = open(\"names.txt\" , 'r').read().splitlines()\n",
    "words[:8]"
   ]
  },
  {
   "cell_type": "code",
   "execution_count": 3,
   "metadata": {},
   "outputs": [
    {
     "name": "stdout",
     "output_type": "stream",
     "text": [
      "{1: 'a', 2: 'b', 3: 'c', 4: 'd', 5: 'e', 6: 'f', 7: 'g', 8: 'h', 9: 'i', 10: 'j', 11: 'k', 12: 'l', 13: 'm', 14: 'n', 15: 'o', 16: 'p', 17: 'q', 18: 'r', 19: 's', 20: 't', 21: 'u', 22: 'v', 23: 'w', 24: 'x', 25: 'y', 26: 'z', 0: '.'}\n"
     ]
    }
   ],
   "source": [
    "chars = sorted(list(set(''.join(words))))\n",
    "stoi = {s:i+1 for i , s in enumerate(chars)}\n",
    "stoi['.'] = 0\n",
    "itos = {i : s for s , i in stoi.items()}\n",
    "vocab_size = len(itos)\n",
    "print(itos)"
   ]
  },
  {
   "cell_type": "code",
   "execution_count": 4,
   "metadata": {},
   "outputs": [
    {
     "name": "stdout",
     "output_type": "stream",
     "text": [
      "torch.Size([182625, 3]) torch.Size([182625])\n",
      "torch.Size([22655, 3]) torch.Size([22655])\n",
      "torch.Size([22866, 3]) torch.Size([22866])\n"
     ]
    }
   ],
   "source": [
    "import random\n",
    "\n",
    "block_size = 3\n",
    "def build_dataset(words):\n",
    "    X , Y = [] , []\n",
    "\n",
    "    for w in words:\n",
    "        context = [0] * block_size\n",
    "        for ch in w + '.':\n",
    "            ix = stoi[ch]\n",
    "            X.append(context)\n",
    "            Y.append(ix)\n",
    "            # print(''.join(itos[i] for i in context) , '--->' , itos[ix])\n",
    "            context = context[1 :] + [ix]\n",
    "\n",
    "    X = torch.tensor(X)\n",
    "    Y = torch.tensor(Y)\n",
    "    print(X.shape , Y.shape) \n",
    "    return X , Y\n",
    "\n",
    "random.seed(42)\n",
    "random.shuffle(words)\n",
    "n1 = int(0.8 * len(words))\n",
    "n2 = int(0.9 * len(words))\n",
    "\n",
    "Xtr , Ytr = build_dataset(words[:n1])     #train data\n",
    "Xdev , Ydev = build_dataset(words[n1:n2]) #dev data\n",
    "Xte , Yte = build_dataset(words[n2:])     #test data"
   ]
  },
  {
   "cell_type": "code",
   "execution_count": 5,
   "metadata": {},
   "outputs": [],
   "source": [
    "#comparing manual gradient to pyTorch gradient\n",
    "def cmp(s , dt , t):\n",
    "    ex = torch.all(dt == t.grad).item()       #逐元素比较是否相等，返回布尔张量，torch.all比较是否所有元素都为True\n",
    "    app = torch.allclose(dt , t.grad)         #两个张量是否在允许的误差范围内\n",
    "    maxdiff = (dt - t.grad).abs().max().item()\n",
    "    print(f'{s:15s} | exact: {str(ex):5s} | approx: {str(app):5s} | maxdiff: {maxdiff}')"
   ]
  },
  {
   "cell_type": "code",
   "execution_count": 6,
   "metadata": {},
   "outputs": [
    {
     "name": "stdout",
     "output_type": "stream",
     "text": [
      "4137\n"
     ]
    }
   ],
   "source": [
    "n_emb = 10\n",
    "n_hidden = 64\n",
    "\n",
    "g = torch.Generator().manual_seed(2147483647)\n",
    "#当embcat @ W1 + b1的值较大时，tanh趋近于平坦，梯度很小，故影响损失的传递（压缩了梯度）\n",
    "#神经元可能无法被激活，可能因为初始化或者优化过程使神经元死亡从而无法被激活\n",
    "#所以希望初始化的预激活值更加趋近于0\n",
    "C = torch.randn((vocab_size , n_emb) , generator = g)\n",
    "#此处初始化方法为kaiming_noraml\n",
    "W1 = torch.randn((n_emb * block_size , n_hidden) , generator = g) * (5/3) * ((n_emb * block_size) ** 0.5)\n",
    "b1 = torch.randn(n_hidden , generator = g) * 0.1\n",
    "\n",
    "#希望刚开始的输出趋近于平均分布\n",
    "W2 = torch.randn((n_hidden , vocab_size) , generator = g) * 0.1\n",
    "b2 = torch.randn(vocab_size , generator=g) * 0.1\n",
    "\n",
    "bngain = torch.ones((1 , n_hidden)) * 0.1 + 1.0\n",
    "bnbias = torch.ones((1 , n_hidden)) * 0.1\n",
    "# bnmean_running = torch.ones((1 , n_hidden))\n",
    "# bnstd_running = torch.ones((1 , n_hidden))\n",
    "\n",
    "parameters = [C , W1 , b1 , W2 , b2 , bngain , bnbias]\n",
    "total_parameters = sum(p.nelement() for p in parameters)\n",
    "print(total_parameters)\n",
    "\n",
    "for p in parameters:\n",
    "    p.requires_grad = True"
   ]
  },
  {
   "cell_type": "code",
   "execution_count": 7,
   "metadata": {},
   "outputs": [
    {
     "name": "stdout",
     "output_type": "stream",
     "text": [
      "torch.Size([32, 3]) torch.Size([32])\n"
     ]
    }
   ],
   "source": [
    "batch_size = 32\n",
    "n = batch_size\n",
    "ix = torch.randint(0 , Xtr.shape[0] , (batch_size , ) , generator=g)\n",
    "Xb , Yb = Xtr[ix] , Ytr[ix]\n",
    "print(Xb.shape , Yb.shape)"
   ]
  },
  {
   "cell_type": "code",
   "execution_count": 8,
   "metadata": {},
   "outputs": [
    {
     "name": "stdout",
     "output_type": "stream",
     "text": [
      "torch.Size([32, 3, 10])\n",
      "torch.Size([32, 30])\n"
     ]
    },
    {
     "data": {
      "text/plain": [
       "tensor(3.3603, grad_fn=<NegBackward0>)"
      ]
     },
     "execution_count": 8,
     "metadata": {},
     "output_type": "execute_result"
    }
   ],
   "source": [
    "emb = C[Xb]\n",
    "print(emb.shape)\n",
    "embcat = emb.view(emb.shape[0] , -1)\n",
    "print(embcat.shape)\n",
    "\n",
    "hprebn = embcat @ W1  + b1 \n",
    "#BatchNorm Layer\n",
    "bnmeani = 1/n * hprebn.sum(0 , keepdim=True)  #计算均值\n",
    "bndiff = hprebn - bnmeani     #中心化\n",
    "bndiff2 = bndiff ** 2           \n",
    "bnvar = 1 / (n - 1) * (bndiff2).sum(0 , keepdim = True)       #计算方差\n",
    "bnvar_inv = (bnvar + 1e-5) ** -0.5      # 1 / sqrt(方差)   标准差的倒数\n",
    "bnraw = bndiff * bnvar_inv              #标准化\n",
    "hpreact = bngain * bnraw + bnbias          \n",
    "\n",
    "h = torch.tanh(hpreact)\n",
    "\n",
    "logits = h @ W2 + b2\n",
    "\n",
    "#cross entropy\n",
    "logit_maxes = logits.max(1 , keepdim=True).values\n",
    "norm_logits = logits - logit_maxes     #稳定数值\n",
    "counts = norm_logits.exp()\n",
    "counts_sum = counts.sum(1 , keepdims=True)\n",
    "coutns_sum_inv = counts_sum ** -1\n",
    "probs = counts * coutns_sum_inv\n",
    "logprobs = probs.log()\n",
    "loss = -logprobs[range(n) , Yb].mean()  #在logprobs中选择Yb对应的对数似然值\n",
    "\n",
    "for p in parameters:\n",
    "    p.grad = None\n",
    "\n",
    "for t in [logprobs , probs , counts , counts_sum , coutns_sum_inv , \n",
    "          norm_logits , logit_maxes , logits , h , hpreact , bnraw,\n",
    "          bnvar_inv , bnvar , bndiff2 , bndiff , hprebn , bnmeani , embcat , emb]:\n",
    "    t.retain_grad()\n",
    "\n",
    "loss.backward()\n",
    "loss"
   ]
  },
  {
   "cell_type": "code",
   "execution_count": 9,
   "metadata": {},
   "outputs": [
    {
     "name": "stdout",
     "output_type": "stream",
     "text": [
      "logprobs        | exact: True  | approx: True  | maxdiff: 0.0\n",
      "probs           | exact: True  | approx: True  | maxdiff: 0.0\n",
      "counts_sum_inv  | exact: True  | approx: True  | maxdiff: 0.0\n",
      "counts_sum      | exact: True  | approx: True  | maxdiff: 0.0\n",
      "counts          | exact: True  | approx: True  | maxdiff: 0.0\n",
      "norm_logits     | exact: True  | approx: True  | maxdiff: 0.0\n",
      "logit_maxes     | exact: True  | approx: True  | maxdiff: 0.0\n",
      "logits          | exact: True  | approx: True  | maxdiff: 0.0\n",
      "h               | exact: True  | approx: True  | maxdiff: 0.0\n",
      "W2              | exact: True  | approx: True  | maxdiff: 0.0\n",
      "b2              | exact: True  | approx: True  | maxdiff: 0.0\n",
      "hpreact         | exact: True  | approx: True  | maxdiff: 0.0\n",
      "bngain          | exact: True  | approx: True  | maxdiff: 0.0\n",
      "bnraw           | exact: True  | approx: True  | maxdiff: 0.0\n",
      "bnbias          | exact: True  | approx: True  | maxdiff: 0.0\n",
      "bndiff          | exact: True  | approx: True  | maxdiff: 0.0\n",
      "bnvar           | exact: True  | approx: True  | maxdiff: 0.0\n",
      "bndiff2         | exact: True  | approx: True  | maxdiff: 0.0\n",
      "bndiff          | exact: True  | approx: True  | maxdiff: 0.0\n",
      "bnmeani         | exact: True  | approx: True  | maxdiff: 0.0\n",
      "hprebn          | exact: True  | approx: True  | maxdiff: 0.0\n",
      "embcat          | exact: True  | approx: True  | maxdiff: 0.0\n",
      "W1              | exact: True  | approx: True  | maxdiff: 0.0\n",
      "b1              | exact: True  | approx: True  | maxdiff: 0.0\n",
      "emb             | exact: True  | approx: True  | maxdiff: 0.0\n",
      "C               | exact: True  | approx: True  | maxdiff: 0.0\n"
     ]
    }
   ],
   "source": [
    "# logprobs.shape\n",
    "# dlogprobs = torch.zeros([32 , 27])\n",
    "dlogprobs = torch.zeros_like(logprobs)\n",
    "dlogprobs[range(n) , Yb] = -1.0/n\n",
    "cmp('logprobs' , dlogprobs , logprobs)    #手动计算 = 自动计算\n",
    "\n",
    "dprobs = dlogprobs * (1.0 / probs) \n",
    "cmp('probs' , dprobs , probs)\n",
    "\n",
    "dcounts_sum_inv = (dprobs * counts).sum(1 , keepdims=True)\n",
    "cmp('counts_sum_inv' , dcounts_sum_inv , coutns_sum_inv)\n",
    "\n",
    "dcounts_sum = dcounts_sum_inv * (-1.0) * counts_sum ** -2\n",
    "cmp('counts_sum' , dcounts_sum , counts_sum)\n",
    "\n",
    "dcounts = dprobs * coutns_sum_inv + dcounts_sum * 1\n",
    "cmp('counts' , dcounts , counts)\n",
    "\n",
    "dnorm_logits = dcounts * counts\n",
    "cmp('norm_logits' , dnorm_logits , norm_logits)\n",
    "\n",
    "dlogit_maxes = (-1 * dnorm_logits).sum(1 , keepdims=True)\n",
    "cmp('logit_maxes' , dlogit_maxes , logit_maxes)\n",
    "\n",
    "#一种方法\n",
    "# dlogits = torch.zeros_like(logits)\n",
    "# _ , max_indices = logits.max(1 , keepdim=True)\n",
    "# dlogits.scatter_(1 , index = max_indices , value = 1.0)    #将max所在位置置为1.0\n",
    "# dlogits *= dlogit_maxes\n",
    "# dlogits += dnorm_logits\n",
    "\n",
    "#方法二    利用one-hot编码实现\n",
    "dlogits = dnorm_logits.clone()\n",
    "dlogits += F.one_hot(logits.max(1).indices , num_classes=logits.shape[1]) * dlogit_maxes\n",
    "cmp('logits' , dlogits , logits)\n",
    "\n",
    "#dh = 32 * 64\n",
    "dh = dlogits @ W2.T\n",
    "cmp('h' , dh , h)\n",
    "  \n",
    "#dW2 = 64 * 27\n",
    "dW2 = h.T @ dlogits\n",
    "cmp(\"W2\" , dW2 , W2)\n",
    "\n",
    "db2 = dlogits.sum(0)\n",
    "cmp('b2' , db2 , b2)\n",
    "\n",
    "dhpreact = (1.0 - h ** 2) * dh\n",
    "cmp(\"hpreact\" , dhpreact , hpreact)\n",
    "\n",
    "dbngain = (dhpreact * bnraw).sum(0 , keepdims=True)\n",
    "cmp(\"bngain\" , dbngain , bngain)\n",
    "\n",
    "dbnraw = dhpreact * bngain\n",
    "cmp(\"bnraw\" , dbnraw , bnraw)\n",
    "\n",
    "dbnbias = dhpreact.sum(0 , keepdim=True)\n",
    "cmp(\"bnbias\" , dbnbias , bnbias)\n",
    "\n",
    "dbnvar_inv = (dbnraw * bndiff).sum(0 , keepdims=True)\n",
    "cmp(\"bndiff\" , dbnvar_inv , bnvar_inv)\n",
    "\n",
    "dbnvar = dbnvar_inv * (-0.5) * (bnvar + 1e-5) ** -1.5\n",
    "cmp(\"bnvar\" , dbnvar , bnvar)\n",
    "\n",
    "dbndiff2 = torch.ones_like(bndiff) * 1.0 / (n - 1) * dbnvar\n",
    "cmp(\"bndiff2\" , dbndiff2 , bndiff2)\n",
    "\n",
    "dbndiff = dbnraw * bnvar_inv + 2 * bndiff * dbndiff2\n",
    "cmp(\"bndiff\" , dbndiff , bndiff)\n",
    "\n",
    "dbnmeani = (-1.0 * dbndiff).sum(0 , keepdims=True)\n",
    "cmp(\"bnmeani\" , dbnmeani , bnmeani)\n",
    "\n",
    "dhprebn = dbndiff + (1.0 / n) * dbnmeani\n",
    "cmp(\"hprebn\" , dhprebn , hprebn)\n",
    "\n",
    "dembcat = dhprebn @ W1.T\n",
    "cmp(\"embcat\" , dembcat , embcat)\n",
    "\n",
    "dW1 = embcat.T @ dhprebn\n",
    "cmp(\"W1\" , dW1 , W1)\n",
    "\n",
    "db1 = dhprebn.sum(0)\n",
    "cmp(\"b1\" , db1 , b1)\n",
    "\n",
    "demb = dembcat.view(emb.shape)\n",
    "cmp(\"emb\" , demb , emb)\n",
    "\n",
    "dC = torch.zeros_like(C)\n",
    "for k in range(Xb.shape[0]):\n",
    "    for j in range(Xb.shape[1]):\n",
    "        ix = Xb[k , j]\n",
    "        dC[ix] += demb[k , j]\n",
    "\n",
    "cmp(\"C\" , dC , C)\n"
   ]
  },
  {
   "cell_type": "code",
   "execution_count": 10,
   "metadata": {},
   "outputs": [
    {
     "name": "stdout",
     "output_type": "stream",
     "text": [
      "torch.Size([32, 27])\n",
      "torch.Size([32, 27])\n",
      "torch.Size([32, 1])\n",
      "torch.Size([32, 1])\n",
      "torch.Size([32, 27])\n",
      "torch.Size([32, 27])\n",
      "torch.Size([32, 27])\n",
      "torch.Size([32, 64])\n",
      "torch.Size([32, 64])\n",
      "torch.Size([1, 64])\n",
      "torch.Size([32, 64])\n",
      "torch.Size([32, 64])\n",
      "torch.Size([1, 64])\n",
      "torch.Size([1, 64])\n",
      "torch.Size([1, 64])\n",
      "torch.Size([64])\n",
      "torch.Size([1, 64])\n"
     ]
    }
   ],
   "source": [
    "print(counts.shape)\n",
    "print(dprobs.shape)\n",
    "print(coutns_sum_inv.shape)\n",
    "print(counts_sum.shape)\n",
    "print(norm_logits.shape)\n",
    "print(logits.shape)\n",
    "print(dlogits.shape)\n",
    "# print(F.one_hot(logits.max(1).indices , num_classes=logits.shape[1]))\n",
    "print(hpreact.shape)\n",
    "print(bnraw.shape)\n",
    "print(bnbias.shape)\n",
    "\n",
    "print(bndiff.shape)\n",
    "print(hprebn.shape)\n",
    "print(bnmeani.shape)\n",
    "print(bnvar.shape)\n",
    "print(bnvar_inv.shape)\n",
    "\n",
    "print(dhprebn.sum(0).shape)\n",
    "print(dhprebn.sum(0 , keepdim=True).shape)"
   ]
  },
  {
   "cell_type": "code",
   "execution_count": 11,
   "metadata": {},
   "outputs": [
    {
     "name": "stdout",
     "output_type": "stream",
     "text": [
      "3.36032772064209 diff:  2.384185791015625e-07\n",
      "logits          | exact: False | approx: True  | maxdiff: 5.3551048040390015e-09\n"
     ]
    }
   ],
   "source": [
    "#简单实现 （数学推导）\n",
    "loss_fast = F.cross_entropy(logits , Yb)\n",
    "print(loss_fast.item() , 'diff: ' , (loss_fast - loss).item())\n",
    "\n",
    "dlogits = F.softmax(logits , dim=1)\n",
    "dlogits[range(n) , Yb] -= 1\n",
    "dlogits /= n\n",
    "\n",
    "cmp('logits' , dlogits , logits)"
   ]
  },
  {
   "cell_type": "code",
   "execution_count": 12,
   "metadata": {},
   "outputs": [
    {
     "name": "stdout",
     "output_type": "stream",
     "text": [
      "hprebn          | exact: False | approx: True  | maxdiff: 2.9103830456733704e-11\n"
     ]
    }
   ],
   "source": [
    "dhprebn = bngain * bnvar_inv / n * (n * dhpreact - dhpreact.sum(0) - n / (n - 1) * bnraw * (dhpreact * bnraw).sum(0))\n",
    "cmp(\"hprebn\" , dhprebn , hprebn)"
   ]
  }
 ],
 "metadata": {
  "kernelspec": {
   "display_name": "OPENAI",
   "language": "python",
   "name": "python3"
  },
  "language_info": {
   "codemirror_mode": {
    "name": "ipython",
    "version": 3
   },
   "file_extension": ".py",
   "mimetype": "text/x-python",
   "name": "python",
   "nbconvert_exporter": "python",
   "pygments_lexer": "ipython3",
   "version": "3.8.0"
  }
 },
 "nbformat": 4,
 "nbformat_minor": 2
}
