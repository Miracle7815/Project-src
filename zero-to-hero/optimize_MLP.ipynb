{
 "cells": [
  {
   "cell_type": "code",
   "execution_count": 1,
   "metadata": {},
   "outputs": [
    {
     "name": "stderr",
     "output_type": "stream",
     "text": [
      "d:\\anaconda\\envs\\OPENAI\\lib\\site-packages\\tqdm\\auto.py:21: TqdmWarning: IProgress not found. Please update jupyter and ipywidgets. See https://ipywidgets.readthedocs.io/en/stable/user_install.html\n",
      "  from .autonotebook import tqdm as notebook_tqdm\n"
     ]
    }
   ],
   "source": [
    "import torch\n",
    "import torch.nn.functional as F\n",
    "import matplotlib.pyplot as plt\n",
    "%matplotlib inline"
   ]
  },
  {
   "cell_type": "code",
   "execution_count": 2,
   "metadata": {},
   "outputs": [
    {
     "data": {
      "text/plain": [
       "['emma', 'olivia', 'ava', 'isabella', 'sophia', 'charlotte', 'mia', 'amelia']"
      ]
     },
     "execution_count": 2,
     "metadata": {},
     "output_type": "execute_result"
    }
   ],
   "source": [
    "words = open(\"names.txt\" , 'r').read().splitlines()\n",
    "words[:8]"
   ]
  },
  {
   "cell_type": "code",
   "execution_count": 6,
   "metadata": {},
   "outputs": [
    {
     "name": "stdout",
     "output_type": "stream",
     "text": [
      "{1: 'a', 2: 'b', 3: 'c', 4: 'd', 5: 'e', 6: 'f', 7: 'g', 8: 'h', 9: 'i', 10: 'j', 11: 'k', 12: 'l', 13: 'm', 14: 'n', 15: 'o', 16: 'p', 17: 'q', 18: 'r', 19: 's', 20: 't', 21: 'u', 22: 'v', 23: 'w', 24: 'x', 25: 'y', 26: 'z', 0: '.'}\n"
     ]
    }
   ],
   "source": [
    "chars = sorted(list(set(''.join(words))))\n",
    "stoi = {s:i+1 for i , s in enumerate(chars)}\n",
    "stoi['.'] = 0\n",
    "itos = {i : s for s , i in stoi.items()}\n",
    "vocab_size = len(itos)\n",
    "print(itos)"
   ]
  },
  {
   "cell_type": "code",
   "execution_count": 7,
   "metadata": {},
   "outputs": [
    {
     "name": "stdout",
     "output_type": "stream",
     "text": [
      "torch.Size([182580, 3]) torch.Size([182580])\n",
      "torch.Size([22767, 3]) torch.Size([22767])\n",
      "torch.Size([22799, 3]) torch.Size([22799])\n"
     ]
    }
   ],
   "source": [
    "import random\n",
    "\n",
    "block_size = 3\n",
    "def build_dataset(words):\n",
    "    X , Y = [] , []\n",
    "\n",
    "    for w in words:\n",
    "        context = [0] * block_size\n",
    "        for ch in w + '.':\n",
    "            ix = stoi[ch]\n",
    "            X.append(context)\n",
    "            Y.append(ix)\n",
    "            # print(''.join(itos[i] for i in context) , '--->' , itos[ix])\n",
    "            context = context[1 :] + [ix]\n",
    "\n",
    "    X = torch.tensor(X)\n",
    "    Y = torch.tensor(Y)\n",
    "    print(X.shape , Y.shape) \n",
    "    return X , Y\n",
    "\n",
    "random.seed(42)\n",
    "random.shuffle(words)\n",
    "n1 = int(0.8 * len(words))\n",
    "n2 = int(0.9 * len(words))\n",
    "\n",
    "Xtr , Ytr = build_dataset(words[:n1])     #train data\n",
    "Xdev , Ydev = build_dataset(words[n1:n2]) #dev data\n",
    "Xte , Yte = build_dataset(words[n2:])     #test data"
   ]
  },
  {
   "cell_type": "code",
   "execution_count": 37,
   "metadata": {},
   "outputs": [
    {
     "name": "stdout",
     "output_type": "stream",
     "text": [
      "12297\n"
     ]
    }
   ],
   "source": [
    "n_emb = 10\n",
    "n_hidden = 200\n",
    "\n",
    "g = torch.Generator().manual_seed(2147483647)\n",
    "#当embcat @ W1 + b1的值较大时，tanh趋近于平坦，梯度很小，故影响损失的传递（压缩了梯度）\n",
    "#神经元可能无法被激活，可能因为初始化或者优化过程使神经元死亡从而无法被激活\n",
    "#所以希望初始化的预激活值更加趋近于0\n",
    "C = torch.randn((vocab_size , n_emb) , generator = g)\n",
    "#此处初始化方法为kaiming_noraml\n",
    "W1 = torch.randn((n_emb * block_size , n_hidden) , generator = g) * (5/3) * ((n_emb * block_size) ** 0.5)\n",
    "b1 = torch.randn(n_hidden , generator = g) * 0.01\n",
    "\n",
    "#希望刚开始的输出趋近于平均分布\n",
    "W2 = torch.randn((n_hidden , vocab_size) , generator = g) * 0.01\n",
    "b2 = torch.randn(vocab_size , generator=g) * 0\n",
    "\n",
    "bngain = torch.ones((1 , n_hidden))\n",
    "bnbias = torch.ones((1 , n_hidden))\n",
    "bnmean_running = torch.ones((1 , n_hidden))\n",
    "bnstd_running = torch.ones((1 , n_hidden))\n",
    "\n",
    "parameters = [C , W1 , b1 , W2 , b2 , bngain , bnbias]\n",
    "total_parameters = sum(p.nelement() for p in parameters)\n",
    "print(total_parameters)\n",
    "\n",
    "for p in parameters:\n",
    "    p.requires_grad = True"
   ]
  },
  {
   "cell_type": "code",
   "execution_count": 36,
   "metadata": {},
   "outputs": [
    {
     "name": "stdout",
     "output_type": "stream",
     "text": [
      "      0/ 200000: 3.3091\n"
     ]
    }
   ],
   "source": [
    "max_steps = 200000\n",
    "batch_size = 32\n",
    "lossi = []\n",
    "\n",
    "for i in range(max_steps):\n",
    "    #mini batch\n",
    "    ix = torch.randint(0 , Xtr.shape[0] , (batch_size , ) , generator=g)\n",
    "    Xb , Yb = Xtr[ix] , Ytr[ix]\n",
    "\n",
    "    emb = C[Xb]\n",
    "    embcat = emb.view(emb.shape[0] , -1)\n",
    "    hpreact = embcat @ W1 # + b1 因为有Norm层所以不需要bias\n",
    "    \n",
    "    #BatchNorm Layer\n",
    "    bnmean = hpreact.mean(0 , keepdim=True)\n",
    "    bnstd = hpreact.std(0 , keepdim=True)\n",
    "    hpreact = bngain  * (hpreact - bnmean) / bnstd + bnbias\n",
    "    with  torch.no_grad():\n",
    "        bnmean_running = 0.999 * bnmean_running + 0.001 * bnmean\n",
    "        bnstd_running = 0.999 * bnstd_running + 0.001 * bnstd\n",
    "        \n",
    "    h = torch.tanh(hpreact)\n",
    "    logits = h @ W2 + b2\n",
    "    loss = F.cross_entropy(logits , Yb)\n",
    "\n",
    "    for p in parameters:\n",
    "        p.grad = None\n",
    "    loss.backward()\n",
    "\n",
    "    # lr = lrs[i]\n",
    "    #可以随着训练轮数的增加进行学习率衰减\n",
    "    lr = 0.1 if i < 100000 else 0.01\n",
    "    for p in parameters:\n",
    "        p.data += -lr * p.grad\n",
    "\n",
    "    #track stats\n",
    "    if (i + 1) % 10000 == 0:\n",
    "        print(f'{i + 1:7d}/{max_steps:7d}: {loss.item():.4f}')\n",
    "    elif i == 0:\n",
    "        print(f'{i:7d}/{max_steps:7d}: {loss.item():.4f}')\n",
    "    lossi.append(loss.log10().item())\n",
    "    break"
   ]
  },
  {
   "cell_type": "code",
   "execution_count": 29,
   "metadata": {},
   "outputs": [
    {
     "name": "stdout",
     "output_type": "stream",
     "text": [
      "train 2.1189446449279785\n",
      "val 2.1612794399261475\n"
     ]
    }
   ],
   "source": [
    "@torch.no_grad()\n",
    "def split_loss(split):\n",
    "    x , y = {\n",
    "        'train' : (Xtr , Ytr) , \n",
    "        'val' : (Xdev , Ydev) ,\n",
    "        'test' : (Xte , Yte),\n",
    "    }[split]\n",
    "    emb = C[x]\n",
    "    embcat = emb.view(emb.shape[0] , -1)\n",
    "    hpreact = embcat @ W1 + b1\n",
    "    hpreact = bngain * (hpreact - bnmean_running) / bnstd_running + bnbias\n",
    "    h = torch.tanh(hpreact)\n",
    "    logits = h @ W2 + b2\n",
    "    loss = F.cross_entropy(logits , y)\n",
    "    print(split , loss.item())\n",
    "\n",
    "split_loss('train')\n",
    "split_loss('val')"
   ]
  },
  {
   "cell_type": "code",
   "execution_count": 30,
   "metadata": {},
   "outputs": [
    {
     "name": "stdout",
     "output_type": "stream",
     "text": [
      "carmah.\n",
      "ambrilli.\n",
      "kimri.\n",
      "rehtleenan.\n",
      "saeja.\n",
      "hubb.\n",
      "den.\n",
      "arti.\n",
      "geni.\n",
      "ner.\n",
      "kiah.\n",
      "maiir.\n",
      "kaleigh.\n",
      "ham.\n",
      "jore.\n",
      "quint.\n",
      "sulin.\n",
      "alianni.\n",
      "waterry.\n",
      "jarynix.\n"
     ]
    }
   ],
   "source": [
    "g = torch.Generator().manual_seed(2147483647 + 10)\n",
    "\n",
    "for _ in range(20):\n",
    "    out = []\n",
    "    context = [0] * block_size\n",
    "    while True:\n",
    "        emb = C[torch.tensor(context)]\n",
    "        h = torch.tanh(emb.view(1 , -1) @ W1 + b1)\n",
    "        logits = h @ W2 + b2\n",
    "        probs = F.softmax(logits , dim=1)\n",
    "        ix = torch.multinomial(probs , num_samples=1 , generator=g).item()\n",
    "        context = context[1:] + [ix]\n",
    "        out.append(ix)\n",
    "        if ix == 0:\n",
    "            break\n",
    "\n",
    "    print(''.join(itos[i] for i in out))"
   ]
  }
 ],
 "metadata": {
  "kernelspec": {
   "display_name": "OPENAI",
   "language": "python",
   "name": "python3"
  },
  "language_info": {
   "codemirror_mode": {
    "name": "ipython",
    "version": 3
   },
   "file_extension": ".py",
   "mimetype": "text/x-python",
   "name": "python",
   "nbconvert_exporter": "python",
   "pygments_lexer": "ipython3",
   "version": "3.8.0"
  }
 },
 "nbformat": 4,
 "nbformat_minor": 2
}
